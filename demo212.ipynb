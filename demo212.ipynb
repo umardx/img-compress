{
 "cells": [
  {
   "cell_type": "code",
   "execution_count": 1,
   "metadata": {},
   "outputs": [
    {
     "data": {
      "text/plain": [
       "True"
      ]
     },
     "execution_count": 1,
     "metadata": {},
     "output_type": "execute_result"
    }
   ],
   "source": [
    "\"\"\"\n",
    "https://stackoverflow.com/questions/43983265/rgb-to-yuv-conversion-and-accessing-y-u-and-v-channels\n",
    "\"\"\"\n",
    "\n",
    "import cv2\n",
    "import numpy as np\n",
    "import pandas as pd\n",
    "\n",
    "\n",
    "def write_xlsx(arr, file):\n",
    "    df = pd.DataFrame(arr)\n",
    "    return df.to_excel(file)\n",
    "    \n",
    "\n",
    "img = cv2.imread('img.png')\n",
    "\n",
    "img_yuv = cv2.cvtColor(img, cv2.COLOR_BGR2YUV)\n",
    "_y, _u, _v = cv2.split(img_yuv)\n",
    "_result = np.vstack([_y, _u, _v])\n",
    "\n",
    "cv2.imwrite('_result.png', _result)\n",
    "write_xlsx(_y, '_y.xlsx')\n",
    "\n",
    "orig = cv2.cvtColor(cv2.merge([_y, _u, _v]), cv2.COLOR_YUV2BGR)\n",
    "cv2.imwrite('orig.png', orig)"
   ]
  },
  {
   "cell_type": "code",
   "execution_count": 2,
   "metadata": {},
   "outputs": [],
   "source": [
    "# def make_lut_u():\n",
    "#     return np.array([[[i,255-i,0] for i in range(256)]],dtype=np.uint8)\n",
    "\n",
    "# def make_lut_v():\n",
    "#     return np.array([[[0,255-i,i] for i in range(256)]],dtype=np.uint8)\n",
    "\n",
    "\n",
    "# lut_u, lut_v = make_lut_u(), make_lut_v()\n",
    "\n",
    "# # Convert back to BGR so we can apply the LUT and stack the images\n",
    "# y = cv2.cvtColor(_y, cv2.COLOR_GRAY2BGR)\n",
    "# u = cv2.cvtColor(_u, cv2.COLOR_GRAY2BGR)\n",
    "# v = cv2.cvtColor(_v, cv2.COLOR_GRAY2BGR)\n",
    "\n",
    "# u_mapped = cv2.LUT(u, lut_u)\n",
    "# v_mapped = cv2.LUT(v, lut_v)\n",
    "\n",
    "# result = np.vstack([img, y, u_mapped, v_mapped])\n",
    "\n",
    "# cv2.imwrite('result.png', result)\n"
   ]
  }
 ],
 "metadata": {
  "kernelspec": {
   "display_name": "Python 3",
   "language": "python",
   "name": "python3"
  },
  "language_info": {
   "codemirror_mode": {
    "name": "ipython",
    "version": 3
   },
   "file_extension": ".py",
   "mimetype": "text/x-python",
   "name": "python",
   "nbconvert_exporter": "python",
   "pygments_lexer": "ipython3",
   "version": "3.6.7"
  }
 },
 "nbformat": 4,
 "nbformat_minor": 2
}
