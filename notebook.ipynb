{
 "cells": [
  {
   "cell_type": "markdown",
   "metadata": {
    "slideshow": {
     "slide_type": "slide"
    }
   },
   "source": [
    "# Sistem Komunikasi Multimedia"
   ]
  },
  {
   "cell_type": "markdown",
   "metadata": {
    "slideshow": {
     "slide_type": "subslide"
    }
   },
   "source": [
    "## RGB to YUV Converter\n",
    "\n",
    "#### img/source.png\n",
    "![Source Image](input/300x300.jpg)"
   ]
  },
  {
   "cell_type": "markdown",
   "metadata": {
    "slideshow": {
     "slide_type": "slide"
    }
   },
   "source": [
    "#### snippet code: RGB to YUV\n",
    "The snippet code based on this [#Reference](https://stackoverflow.com/questions/43983265/rgb-to-yuv-conversion-and-accessing-y-u-and-v-channels)"
   ]
  },
  {
   "cell_type": "code",
   "execution_count": 1,
   "metadata": {
    "slideshow": {
     "slide_type": "subslide"
    }
   },
   "outputs": [],
   "source": [
    "\"\"\"\n",
    "\n",
    "\"\"\"\n",
    "\n",
    "import cv2\n",
    "import numpy as np\n",
    "import pandas as pd\n",
    "\n",
    "\n",
    "def write_xlsx(arr, path):\n",
    "    return pd.DataFrame(arr).to_excel(path)\n",
    "\n",
    "def load_img(img):\n",
    "    return cv2.imread(img)\n",
    "\n",
    "def rgb2yuv(img):\n",
    "    return cv2.cvtColor(img, cv2.COLOR_BGR2YUV)\n",
    "\n",
    "def split_channel(img):\n",
    "    return cv2.split(img)\n",
    "\n",
    "\n",
    "source = load_img(\"./input/300x300.jpg\")\n",
    "yuv = rgb2yuv(source)\n",
    "y, u, v = split_channel(yuv)\n",
    "\n",
    "cv2.imwrite(\"./output/yuv.png\", np.vstack([y,u,v]))\n",
    "write_xlsx(y, \"./output/matrix_y.xlsx\")"
   ]
  },
  {
   "cell_type": "markdown",
   "metadata": {},
   "source": [
    "### Result:"
   ]
  },
  {
   "cell_type": "markdown",
   "metadata": {},
   "source": [
    "#### output/yuv.png\n",
    "![YUV Stack Image](output/yuv.png)"
   ]
  },
  {
   "cell_type": "markdown",
   "metadata": {},
   "source": [
    "#### Y Channel Matrix:\n",
    "[Download Y channel matrix](./files/output/y_arr.xlsx?download=1)"
   ]
  },
  {
   "cell_type": "markdown",
   "metadata": {},
   "source": [
    "___"
   ]
  },
  {
   "cell_type": "markdown",
   "metadata": {},
   "source": [
    "</br>"
   ]
  },
  {
   "cell_type": "markdown",
   "metadata": {},
   "source": [
    "## Y to DCT\n",
    "\n",
    "Based on this [#Reference](https://docs.opencv.org/3.0-beta/modules/core/doc/operations_on_arrays.html?highlight=inrange#dct)"
   ]
  },
  {
   "cell_type": "code",
   "execution_count": 2,
   "metadata": {},
   "outputs": [
    {
     "name": "stdout",
     "output_type": "stream",
     "text": [
      "MATRIX Y Channel: \n",
      " [[119 118 117 ...  88  88  88]\n",
      " [119 118 117 ...  89  89  89]\n",
      " [119 118 117 ...  90  90  90]\n",
      " ...\n",
      " [ 66 107  67 ...  56  57  57]\n",
      " [ 66  75  71 ...  48  54  57]\n",
      " [ 59  69  70 ...  44  51  53]]\n",
      "\n",
      "\n",
      "DCT: \n",
      " [[37206.508   -704.5878   663.5286 ...    -2.1398    -3.0857    -0.7138]\n",
      " [ 5654.4634   548.752    239.1866 ...    -2.2853     0.0008     3.2031]\n",
      " [-7043.9365  1048.1727 -1185.7291 ...     4.2467     0.6697    -1.4986]\n",
      " ...\n",
      " [    8.1774   -21.2404    -7.6886 ...     0.357      1.068     -2.3814]\n",
      " [  -20.3889    23.5035    14.58   ...     0.9217    -0.8093    -0.1989]\n",
      " [   12.5852   -10.3679    -5.9015 ...     1.0653     0.498     -1.1323]]\n",
      "\n",
      "\n",
      "MATRIX: \n",
      " [[60 50]\n",
      " [40 70]]\n",
      "\n",
      "\n",
      "DCT: \n",
      " [[110. -10.]\n",
      " [  0.  20.]]\n"
     ]
    }
   ],
   "source": [
    "import cv2\n",
    "import numpy as np\n",
    "\n",
    "matrix =np.matrix(\n",
    "[\n",
    "    [60, 50],\n",
    "    [40, 70]\n",
    "])\n",
    "\n",
    "np.set_printoptions(precision=4, suppress=True)\n",
    "\n",
    "print(\"MATRIX Y Channel: \\n\", y)\n",
    "DCT = cv2.dct(y.astype(np.float32))\n",
    "print(\"\\n\")\n",
    "print(\"DCT: \\n\", DCT)\n",
    "\n",
    "print(\"\\n\")\n",
    "print(\"MATRIX: \\n\", matrix)\n",
    "DCT = cv2.dct(matrix.astype(np.float32))\n",
    "\n",
    "print(\"\\n\")\n",
    "print(\"DCT: \\n\", DCT)"
   ]
  }
 ],
 "metadata": {
  "kernelspec": {
   "display_name": "Python 3",
   "language": "python",
   "name": "python3"
  },
  "language_info": {
   "codemirror_mode": {
    "name": "ipython",
    "version": 3
   },
   "file_extension": ".py",
   "mimetype": "text/x-python",
   "name": "python",
   "nbconvert_exporter": "python",
   "pygments_lexer": "ipython3",
   "version": "3.6.7"
  }
 },
 "nbformat": 4,
 "nbformat_minor": 2
}
