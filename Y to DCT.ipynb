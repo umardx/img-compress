{
 "cells": [
  {
   "cell_type": "markdown",
   "metadata": {},
   "source": [
    "## Y to DCT"
   ]
  },
  {
   "cell_type": "code",
   "execution_count": 1,
   "metadata": {
    "scrolled": true
   },
   "outputs": [],
   "source": [
    "import cv2\n",
    "import numpy as np\n",
    "\n",
    "import cv2\n",
    "import numpy as np\n",
    "import pandas as pd\n",
    "from matplotlib import cm\n",
    "import matplotlib.pyplot as plt\n",
    "import matplotlib.pylab as pylab\n",
    "from matplotlib.colors import Normalize\n",
    "\n",
    "\n",
    "def write_xlsx(arr, path):\n",
    "    return pd.DataFrame(arr).to_excel(path)\n",
    "\n",
    "def load_img(img):\n",
    "    return cv2.imread(img)\n",
    "\n",
    "def rgb2yuv(img):\n",
    "    return cv2.cvtColor(img, cv2.COLOR_BGR2YCrCb)\n",
    "\n",
    "def bgr2rgb(img):\n",
    "    return cv2.cvtColor(img, cv2.COLOR_BGR2RGB)\n",
    "\n",
    "def split_channel(img):\n",
    "    return cv2.split(img)\n"
   ]
  },
  {
   "cell_type": "code",
   "execution_count": 2,
   "metadata": {},
   "outputs": [],
   "source": [
    "source = load_img(\"./input/source.jpg\")\n",
    "yuv = rgb2yuv(source)\n",
    "y, u, v = split_channel(yuv)"
   ]
  },
  {
   "cell_type": "code",
   "execution_count": 3,
   "metadata": {},
   "outputs": [
    {
     "data": {
      "text/plain": [
       "True"
      ]
     },
     "execution_count": 3,
     "metadata": {},
     "output_type": "execute_result"
    }
   ],
   "source": [
    "source = y\n",
    "\n",
    "%matplotlib inline\n",
    "pylab.rcParams['figure.figsize'] = (20.0, 7)\n",
    "np.set_printoptions(precision=4, suppress=True)\n",
    "\n",
    "block = 8\n",
    "h, w = np.array(source.shape[:2])/block*block\n",
    "h, w = int(h), int(w)\n",
    "source = source[:h, :w]\n",
    "\n",
    "blocksV = int(h/block)\n",
    "blocksH = int(w/block)\n",
    "vis0 = np.zeros((h, w), np.float32)\n",
    "result = np.zeros((h, w), np.float32)\n",
    "vis0[:h, :w] = source\n",
    "\n",
    "for row in range(blocksV):\n",
    "    for col in range(blocksH):\n",
    "        current_block = cv2.dct(vis0[row*block:(row+1)*block,\n",
    "                                 col*block:(col+1)*block])\n",
    "        result[row*block:(row+1)*block,\n",
    "              col*block:(col+1)*block] = current_block\n",
    "\n",
    "cv2.imwrite(\"./output/result_DCT.jpg\", np.hstack([y, result]))"
   ]
  },
  {
   "cell_type": "markdown",
   "metadata": {},
   "source": [
    "## DCT\n",
    "![DCT](./output/result_DCT.jpg)"
   ]
  },
  {
   "cell_type": "code",
   "execution_count": 4,
   "metadata": {},
   "outputs": [
    {
     "data": {
      "text/plain": [
       "True"
      ]
     },
     "execution_count": 4,
     "metadata": {},
     "output_type": "execute_result"
    }
   ],
   "source": [
    "back = np.zeros((h, w), np.float32)\n",
    "for row in range(blocksV):\n",
    "    for col in range(blocksH):\n",
    "        current_block = cv2.idct(result[row*block:(row+1)*block,\n",
    "                                 col*block:(col+1)*block])\n",
    "        back[row*block:(row+1)*block,\n",
    "              col*block:(col+1)*block] = current_block\n",
    "        \n",
    "cv2.imwrite(\"./output/result_IDCT.jpg\", np.hstack([y, result, back]))"
   ]
  },
  {
   "cell_type": "markdown",
   "metadata": {},
   "source": [
    "## IDCT\n",
    "![IDCT](./output/result_IDCT.jpg)"
   ]
  }
 ],
 "metadata": {
  "kernelspec": {
   "display_name": "Python 3",
   "language": "python",
   "name": "python3"
  },
  "language_info": {
   "codemirror_mode": {
    "name": "ipython",
    "version": 3
   },
   "file_extension": ".py",
   "mimetype": "text/x-python",
   "name": "python",
   "nbconvert_exporter": "python",
   "pygments_lexer": "ipython3",
   "version": "3.6.7"
  }
 },
 "nbformat": 4,
 "nbformat_minor": 2
}
