{
 "cells": [
  {
   "cell_type": "markdown",
   "metadata": {},
   "source": [
    "# Sistem Komunikasi Multimedia"
   ]
  },
  {
   "cell_type": "markdown",
   "metadata": {},
   "source": [
    "## RGB to YUV Converter"
   ]
  },
  {
   "cell_type": "markdown",
   "metadata": {},
   "source": [
    "### img/source.png\n",
    "![Source Image](img/source.png)"
   ]
  },
  {
   "cell_type": "code",
   "execution_count": 19,
   "metadata": {},
   "outputs": [],
   "source": [
    "\"\"\"\n",
    "https://stackoverflow.com/questions/43983265/rgb-to-yuv-conversion-and-accessing-y-u-and-v-channels\n",
    "\"\"\"\n",
    "\n",
    "import cv2\n",
    "import numpy as np\n",
    "import pandas as pd\n",
    "\n",
    "\n",
    "def write_xlsx(arr, path):\n",
    "    return pd.DataFrame(arr).to_excel(path)\n",
    "\n",
    "def load_img(img):\n",
    "    return cv2.imread(img)\n",
    "\n",
    "def rgb2yuv(img):\n",
    "    return cv2.cvtColor(img, cv2.COLOR_BGR2YUV)\n",
    "\n",
    "def split_channel(img):\n",
    "    return cv2.split(img)\n",
    "\n",
    "\n",
    "source = load_img(\"./img/source.png\")\n",
    "yuv = rgb2yuv(source)\n",
    "y, u, v = split_channel(yuv)\n",
    "cv2.imwrite(\"./output/yuv.png\", np.vstack([y,u,v]))\n",
    "write_xlsx(y, \"./output/y_arr.xlsx\")"
   ]
  },
  {
   "cell_type": "markdown",
   "metadata": {},
   "source": [
    "### output/yuv.png\n",
    "![YUV Stack Image](output/yuv.png)"
   ]
  }
 ],
 "metadata": {
  "kernelspec": {
   "display_name": "Python 3",
   "language": "python",
   "name": "python3"
  },
  "language_info": {
   "codemirror_mode": {
    "name": "ipython",
    "version": 3
   },
   "file_extension": ".py",
   "mimetype": "text/x-python",
   "name": "python",
   "nbconvert_exporter": "python",
   "pygments_lexer": "ipython3",
   "version": "3.6.7"
  }
 },
 "nbformat": 4,
 "nbformat_minor": 2
}
